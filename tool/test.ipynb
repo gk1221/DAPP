{
 "cells": [
  {
   "cell_type": "code",
   "execution_count": 4,
   "metadata": {},
   "outputs": [],
   "source": [
    "from web3 import HTTPProvider, Web3\n",
    "import json\n",
    "import time\n"
   ]
  },
  {
   "cell_type": "code",
   "execution_count": 44,
   "metadata": {},
   "outputs": [],
   "source": [
    "#連線到剛啟動的Ganache RPC Server\n",
    "web3 = Web3(HTTPProvider('http://127.0.0.1:7545'))\n",
    "# block = web3.eth.get_block('latest', full_transactions=False)\n",
    "block = web3.eth.get_block(23, full_transactions=False)\n",
    "#可以看到目前的區塊高度等資訊\n",
    "# print(web3.is_connected())\n",
    "# print(block)\n",
    "# 取得 Transaction Address\n",
    "transaction_address = block.transactions[0]\n",
    "# print(contract_address)\n",
    "# print(block.transactions[0])"
   ]
  },
  {
   "cell_type": "code",
   "execution_count": 45,
   "metadata": {},
   "outputs": [
    {
     "name": "stdout",
     "output_type": "stream",
     "text": [
      "0x3FEC118b361cbf59613E5795ef2Cfb7485569C24\n"
     ]
    }
   ],
   "source": [
    "receipt = web3.eth.get_transaction_receipt(transaction_address)\n",
    "# 0x136e09721e428f3b4685016efbe00b18eaf51a432138798176e51e2dedd5553f\n",
    "# web3.eth.get_block_number()\n",
    "# print(receipt)\n",
    "contract_address = (receipt.contractAddress)\n",
    "print(contract_address)"
   ]
  },
  {
   "cell_type": "markdown",
   "metadata": {},
   "source": []
  },
  {
   "cell_type": "code",
   "execution_count": 46,
   "metadata": {},
   "outputs": [
    {
     "name": "stdout",
     "output_type": "stream",
     "text": [
      "1337\n"
     ]
    }
   ],
   "source": [
    "wallet_address = web3.eth.accounts[0]\n",
    "balance_eth = web3.eth.get_balance(wallet_address)\n",
    "chainId = web3.eth.chain_id\n",
    "print(chainId)\n",
    "\n",
    "#user 1\n",
    "wallet_address = '0xc744C4ceC8f66F77Ccff8dEA39f337cF08E13191'\n",
    "wallet_secret_key = '0x8ffd351de490160082d9172ae8be79a9c21d32562c673f88b88996baba098364'\n",
    "# \n",
    "#user 1\n",
    "# wallet_address = '0x15AE584D068da5DAeF9A7Ef0d5a575BaECe37f64'\n",
    "# wallet_secret_key = '0xd41f97b2e2bea376966534b8ab9ee2458f0fa4d2ff72d06eeca69129d8c07d12'\n",
    "\n",
    "#user 1\n",
    "# wallet_address = '0x50F6968f9067E6BcB6B9ff5b41dCb53543f2F0Ee'\n",
    "# wallet_secret_key = '0x6fef5af23b5ad47e2922128dfd33cc89763af1727f9d11e30c6523531e633dd4'"
   ]
  },
  {
   "cell_type": "code",
   "execution_count": 47,
   "metadata": {},
   "outputs": [],
   "source": [
    "#需要更新contract address 和 abi\n",
    "# contract = web3.eth.contract(address='0xDed229C9d6c76192b0D26212C9A2B5193C0D0e81', abi='[{\"inputs\":[{\"internalType\":\"string\",\"name\":\"name\",\"type\":\"string\"},{\"internalType\":\"string[]\",\"name\":\"optionNames\",\"type\":\"string[]\"},{\"internalType\":\"uint256\",\"name\":\"due\",\"type\":\"uint256\"}],\"stateMutability\":\"nonpayable\",\"type\":\"constructor\"},{\"inputs\":[],\"name\":\"dueDate\",\"outputs\":[{\"internalType\":\"uint256\",\"name\":\"\",\"type\":\"uint256\"}],\"stateMutability\":\"view\",\"type\":\"function\",\"constant\":true},{\"inputs\":[],\"name\":\"eventName\",\"outputs\":[{\"internalType\":\"string\",\"name\":\"\",\"type\":\"string\"}],\"stateMutability\":\"view\",\"type\":\"function\",\"constant\":true},{\"inputs\":[],\"name\":\"manager\",\"outputs\":[{\"internalType\":\"address\",\"name\":\"\",\"type\":\"address\"}],\"stateMutability\":\"view\",\"type\":\"function\",\"constant\":true},{\"inputs\":[{\"internalType\":\"uint256\",\"name\":\"\",\"type\":\"uint256\"}],\"name\":\"options\",\"outputs\":[{\"internalType\":\"uint256\",\"name\":\"id\",\"type\":\"uint256\"},{\"internalType\":\"string\",\"name\":\"name\",\"type\":\"string\"},{\"internalType\":\"uint256\",\"name\":\"count\",\"type\":\"uint256\"}],\"stateMutability\":\"view\",\"type\":\"function\",\"constant\":true},{\"inputs\":[{\"internalType\":\"uint256\",\"name\":\"\",\"type\":\"uint256\"}],\"name\":\"players\",\"outputs\":[{\"internalType\":\"address\",\"name\":\"account\",\"type\":\"address\"},{\"internalType\":\"uint256\",\"name\":\"price\",\"type\":\"uint256\"},{\"internalType\":\"uint256\",\"name\":\"selection\",\"type\":\"uint256\"}],\"stateMutability\":\"view\",\"type\":\"function\",\"constant\":true},{\"inputs\":[{\"internalType\":\"uint256\",\"name\":\"selection\",\"type\":\"uint256\"}],\"name\":\"enter\",\"outputs\":[],\"stateMutability\":\"payable\",\"type\":\"function\",\"payable\":true},{\"inputs\":[],\"name\":\"getProfile\",\"outputs\":[{\"internalType\":\"string\",\"name\":\"\",\"type\":\"string\"},{\"internalType\":\"uint256\",\"name\":\"\",\"type\":\"uint256\"},{\"components\":[{\"internalType\":\"uint256\",\"name\":\"id\",\"type\":\"uint256\"},{\"internalType\":\"string\",\"name\":\"name\",\"type\":\"string\"},{\"internalType\":\"uint256\",\"name\":\"count\",\"type\":\"uint256\"}],\"internalType\":\"struct Event.Option[]\",\"name\":\"\",\"type\":\"tuple[]\"},{\"components\":[{\"internalType\":\"address\",\"name\":\"account\",\"type\":\"address\"},{\"internalType\":\"uint256\",\"name\":\"price\",\"type\":\"uint256\"},{\"internalType\":\"uint256\",\"name\":\"selection\",\"type\":\"uint256\"}],\"internalType\":\"struct Event.Player[]\",\"name\":\"\",\"type\":\"tuple[]\"}],\"stateMutability\":\"view\",\"type\":\"function\",\"constant\":true},{\"inputs\":[{\"internalType\":\"uint256\",\"name\":\"selection\",\"type\":\"uint256\"}],\"name\":\"getWinnerCount\",\"outputs\":[{\"internalType\":\"uint256\",\"name\":\"\",\"type\":\"uint256\"}],\"stateMutability\":\"view\",\"type\":\"function\",\"constant\":true},{\"inputs\":[{\"internalType\":\"uint256\",\"name\":\"selection\",\"type\":\"uint256\"}],\"name\":\"endEvent\",\"outputs\":[],\"stateMutability\":\"nonpayable\",\"type\":\"function\"},{\"inputs\":[],\"name\":\"withdraw\",\"outputs\":[],\"stateMutability\":\"nonpayable\",\"type\":\"function\"},{\"inputs\":[],\"name\":\"getTotalPrice\",\"outputs\":[{\"internalType\":\"uint256\",\"name\":\"\",\"type\":\"uint256\"}],\"stateMutability\":\"view\",\"type\":\"function\",\"constant\":true}]')\n",
    "contract = web3.eth.contract(address=contract_address, abi='[{\"inputs\": [{\"internalType\": \"string\", \"name\": \"name\", \"type\": \"string\"}, {\"internalType\": \"string[]\", \"name\": \"optionNames\", \"type\": \"string[]\"}, {\"internalType\": \"uint256\", \"name\": \"due\", \"type\": \"uint256\"}], \"stateMutability\": \"nonpayable\", \"type\": \"constructor\"}, {\"inputs\": [], \"name\": \"cancel\", \"outputs\": [], \"stateMutability\": \"nonpayable\", \"type\": \"function\"}, {\"inputs\": [], \"name\": \"dueDate\", \"outputs\": [{\"internalType\": \"uint256\", \"name\": \"\", \"type\": \"uint256\"}], \"stateMutability\": \"view\", \"type\": \"function\"}, {\"inputs\": [{\"internalType\": \"uint256\", \"name\": \"selection\", \"type\": \"uint256\"}], \"name\": \"endEvent\", \"outputs\": [], \"stateMutability\": \"nonpayable\", \"type\": \"function\"}, {\"inputs\": [{\"internalType\": \"uint256\", \"name\": \"selection\", \"type\": \"uint256\"}], \"name\": \"enter\", \"outputs\": [], \"stateMutability\": \"payable\", \"type\": \"function\"}, {\"inputs\": [], \"name\": \"eventName\", \"outputs\": [{\"internalType\": \"string\", \"name\": \"\", \"type\": \"string\"}], \"stateMutability\": \"view\", \"type\": \"function\"}, {\"inputs\": [], \"name\": \"getProfile\", \"outputs\": [{\"internalType\": \"string\", \"name\": \"\", \"type\": \"string\"}, {\"internalType\": \"uint256\", \"name\": \"\", \"type\": \"uint256\"}, {\"components\": [{\"internalType\": \"uint256\", \"name\": \"id\", \"type\": \"uint256\"}, {\"internalType\": \"string\", \"name\": \"name\", \"type\": \"string\"}, {\"internalType\": \"uint256\", \"name\": \"count\", \"type\": \"uint256\"}], \"internalType\": \"struct Event.Option[]\", \"name\": \"\", \"type\": \"tuple[]\"}, {\"components\": [{\"internalType\": \"address\", \"name\": \"account\", \"type\": \"address\"}, {\"internalType\": \"uint256\", \"name\": \"price\", \"type\": \"uint256\"}, {\"internalType\": \"uint256\", \"name\": \"selection\", \"type\": \"uint256\"}], \"internalType\": \"struct Event.Player[]\", \"name\": \"\", \"type\": \"tuple[]\"}], \"stateMutability\": \"view\", \"type\": \"function\"}, {\"inputs\": [], \"name\": \"getTotalPrice\", \"outputs\": [{\"internalType\": \"uint256\", \"name\": \"\", \"type\": \"uint256\"}], \"stateMutability\": \"view\", \"type\": \"function\"}, {\"inputs\": [{\"internalType\": \"uint256\", \"name\": \"selection\", \"type\": \"uint256\"}], \"name\": \"getWinnerCount\", \"outputs\": [{\"internalType\": \"uint256\", \"name\": \"\", \"type\": \"uint256\"}], \"stateMutability\": \"view\", \"type\": \"function\"}, {\"inputs\": [], \"name\": \"manager\", \"outputs\": [{\"internalType\": \"address\", \"name\": \"\", \"type\": \"address\"}], \"stateMutability\": \"view\", \"type\": \"function\"}, {\"inputs\": [{\"internalType\": \"uint256\", \"name\": \"\", \"type\": \"uint256\"}], \"name\": \"options\", \"outputs\": [{\"internalType\": \"uint256\", \"name\": \"id\", \"type\": \"uint256\"}, {\"internalType\": \"string\", \"name\": \"name\", \"type\": \"string\"}, {\"internalType\": \"uint256\", \"name\": \"count\", \"type\": \"uint256\"}], \"stateMutability\": \"view\", \"type\": \"function\"}, {\"inputs\": [{\"internalType\": \"uint256\", \"name\": \"\", \"type\": \"uint256\"}], \"name\": \"players\", \"outputs\": [{\"internalType\": \"address\", \"name\": \"account\", \"type\": \"address\"}, {\"internalType\": \"uint256\", \"name\": \"price\", \"type\": \"uint256\"}, {\"internalType\": \"uint256\", \"name\": \"selection\", \"type\": \"uint256\"}], \"stateMutability\": \"view\", \"type\": \"function\"}]')\n",
    "# print(contract)\n",
    "\n",
    "# for func in contract.all_functions():\n",
    "#    print('contract functions: %s', func)\n"
   ]
  },
  {
   "cell_type": "code",
   "execution_count": 53,
   "metadata": {},
   "outputs": [
    {
     "data": {
      "text/plain": [
       "['custom2',\n",
       " 1714435654,\n",
       " [(0, 'x', 0), (1, 'y', 1), (2, 'z', 0)],\n",
       " [('0xc744C4ceC8f66F77Ccff8dEA39f337cF08E13191', 5000000000000000000, 1)]]"
      ]
     },
     "execution_count": 53,
     "metadata": {},
     "output_type": "execute_result"
    }
   ],
   "source": [
    "contract.functions.getProfile().call()"
   ]
  },
  {
   "cell_type": "code",
   "execution_count": 49,
   "metadata": {},
   "outputs": [
    {
     "name": "stdout",
     "output_type": "stream",
     "text": [
      "{'from': '0xc744C4ceC8f66F77Ccff8dEA39f337cF08E13191', 'value': 5000000000000000000, 'nonce': 18, 'gas': 200000, 'maxFeePerGas': 2000000000, 'maxPriorityFeePerGas': 1000000000}\n"
     ]
    }
   ],
   "source": [
    "# print(web3.eth.chain_id)\n",
    "# print(web3.eth.get_transaction_count('0x1B5eE6f9Dc400Fb219cD9193FCdB75b7adec2288'))\n",
    "# print(web3.eth.gas_price)\n",
    "transaction = {\n",
    "   'from': wallet_address,\n",
    "   'value': web3.to_wei(5, 'ether'),\n",
    "   'nonce': web3.eth.get_transaction_count(wallet_address),\n",
    "   'gas': 200000,\n",
    "   'maxFeePerGas': 2000000000,\n",
    "   'maxPriorityFeePerGas': 1000000000,\n",
    "}\n",
    "print(transaction)"
   ]
  },
  {
   "cell_type": "code",
   "execution_count": 50,
   "metadata": {},
   "outputs": [],
   "source": [
    "pre_trans = contract.functions.enter(1).build_transaction(transaction)"
   ]
  },
  {
   "cell_type": "code",
   "execution_count": 51,
   "metadata": {},
   "outputs": [
    {
     "name": "stdout",
     "output_type": "stream",
     "text": [
      "SignedTransaction(rawTransaction=HexBytes('0x02f89982053912843b9aca00847735940083030d40943fec118b361cbf59613e5795ef2cfb7485569c24884563918244f40000a4a59f3e0c0000000000000000000000000000000000000000000000000000000000000001c080a05580f10870bbb02f2bd025e7db09db5e230a0648d386ded67d31aa1b07afc579a022a74ceff1c249139b9804d77eb665ade5e20798a552aa72aa6becc956b32719'), hash=HexBytes('0xd05a96b6a2d60e081d7aed071c6cd84d7ec5e799b50d66b42c2f7911462dcb23'), r=38674412102290613191124141824207849035790213936524824452890953285329786750329, s=15674231313258843612293861922341938154900124908128135484574118170184916346649, v=0)\n"
     ]
    }
   ],
   "source": [
    "signed_tx = web3.eth.account.sign_transaction(pre_trans, private_key=wallet_secret_key)\n",
    "\n",
    "print(signed_tx)\n"
   ]
  },
  {
   "cell_type": "code",
   "execution_count": 52,
   "metadata": {},
   "outputs": [
    {
     "name": "stdout",
     "output_type": "stream",
     "text": [
      "b'\\x02\\xf8\\x99\\x82\\x059\\x12\\x84;\\x9a\\xca\\x00\\x84w5\\x94\\x00\\x83\\x03\\r@\\x94?\\xec\\x11\\x8b6\\x1c\\xbfYa>W\\x95\\xef,\\xfbt\\x85V\\x9c$\\x88Ec\\x91\\x82D\\xf4\\x00\\x00\\xa4\\xa5\\x9f>\\x0c\\x00\\x00\\x00\\x00\\x00\\x00\\x00\\x00\\x00\\x00\\x00\\x00\\x00\\x00\\x00\\x00\\x00\\x00\\x00\\x00\\x00\\x00\\x00\\x00\\x00\\x00\\x00\\x00\\x00\\x00\\x00\\x01\\xc0\\x80\\xa0U\\x80\\xf1\\x08p\\xbb\\xb0/+\\xd0%\\xe7\\xdb\\t\\xdb^#\\n\\x06H\\xd3\\x86\\xde\\xd6}1\\xaa\\x1b\\x07\\xaf\\xc5y\\xa0\"\\xa7L\\xef\\xf1\\xc2I\\x13\\x9b\\x98\\x04\\xd7~\\xb6e\\xad\\xe5\\xe2\\x07\\x98\\xa5R\\xaar\\xaak\\xec\\xc9V\\xb3\\'\\x19'\n"
     ]
    }
   ],
   "source": [
    "print(signed_tx.rawTransaction)\n",
    "tx_hash = web3.eth.send_raw_transaction(signed_tx.rawTransaction)"
   ]
  },
  {
   "cell_type": "code",
   "execution_count": 56,
   "metadata": {},
   "outputs": [
    {
     "data": {
      "text/plain": [
       "53000"
      ]
     },
     "execution_count": 56,
     "metadata": {},
     "output_type": "execute_result"
    }
   ],
   "source": [
    "cancel_transaction = {\n",
    "   'from': wallet_address,\n",
    "   'nonce': web3.eth.get_transaction_count(wallet_address),\n",
    "   'gas': 253000\n",
    "}\n",
    "\n",
    "web3.eth.estimate_gas(cancel_transaction)"
   ]
  },
  {
   "cell_type": "code",
   "execution_count": 57,
   "metadata": {},
   "outputs": [],
   "source": [
    "# end event\n",
    "# build\n",
    "cancel_trans = contract.functions.cancel().build_transaction(cancel_transaction)\n",
    "# sign\n",
    "cancel_signed_tx = web3.eth.account.sign_transaction(cancel_trans, private_key=wallet_secret_key)\n",
    "# send transaction\n",
    "tx_hash = web3.eth.send_raw_transaction(cancel_signed_tx.rawTransaction)"
   ]
  },
  {
   "cell_type": "code",
   "execution_count": null,
   "metadata": {},
   "outputs": [],
   "source": [
    "contract.functions.getWinnerCount(2).call()"
   ]
  },
  {
   "cell_type": "code",
   "execution_count": 28,
   "metadata": {},
   "outputs": [
    {
     "data": {
      "text/plain": [
       "1000000000000000000"
      ]
     },
     "execution_count": 28,
     "metadata": {},
     "output_type": "execute_result"
    }
   ],
   "source": [
    "contract.functions.getTotalPrice().call()"
   ]
  },
  {
   "cell_type": "code",
   "execution_count": 43,
   "metadata": {},
   "outputs": [
    {
     "data": {
      "text/plain": [
       "53000"
      ]
     },
     "execution_count": 43,
     "metadata": {},
     "output_type": "execute_result"
    }
   ],
   "source": [
    "end_transaction = {\n",
    "   'from': wallet_address,\n",
    "   'nonce': web3.eth.get_transaction_count(wallet_address),\n",
    "   'gas': 253000\n",
    "}\n",
    "\n",
    "web3.eth.estimate_gas(end_transaction)"
   ]
  },
  {
   "cell_type": "code",
   "execution_count": 44,
   "metadata": {},
   "outputs": [
    {
     "ename": "ValueError",
     "evalue": "{'message': 'VM Exception while processing transaction: revert', 'stack': 'RuntimeError: VM Exception while processing transaction: revert\\n    at EIP1559FeeMarketTransaction.fillFromResult (/Applications/Ganache.app/Contents/Resources/static/node/node_modules/ganache/dist/node/1.js:2:12745)\\n    at Miner.<anonymous> (/Applications/Ganache.app/Contents/Resources/static/node/node_modules/ganache/dist/node/1.js:2:36703)\\n    at async Miner.<anonymous> (/Applications/Ganache.app/Contents/Resources/static/node/node_modules/ganache/dist/node/1.js:2:35116)\\n    at async Miner.mine (/Applications/Ganache.app/Contents/Resources/static/node/node_modules/ganache/dist/node/1.js:2:39680)\\n    at async Blockchain.mine (/Applications/Ganache.app/Contents/Resources/static/node/node_modules/ganache/dist/node/1.js:2:60063)\\n    at async Promise.all (index 0)\\n    at async TransactionPool.emit (/Applications/Ganache.app/Contents/Resources/static/node/node_modules/ganache/node_modules/emittery/index.js:303:3)', 'code': -32000, 'name': 'RuntimeError', 'data': {'hash': '0xa12d8caf1c62539fca7e92a3b1c7ba2202b01ef0b9dfd7785852b4cda8582c4b', 'programCounter': 823, 'result': '0xa12d8caf1c62539fca7e92a3b1c7ba2202b01ef0b9dfd7785852b4cda8582c4b', 'reason': None, 'message': 'revert'}}",
     "output_type": "error",
     "traceback": [
      "\u001b[0;31m---------------------------------------------------------------------------\u001b[0m",
      "\u001b[0;31mValueError\u001b[0m                                Traceback (most recent call last)",
      "Cell \u001b[0;32mIn [44], line 7\u001b[0m\n\u001b[1;32m      5\u001b[0m end_signed_tx \u001b[38;5;241m=\u001b[39m web3\u001b[38;5;241m.\u001b[39meth\u001b[38;5;241m.\u001b[39maccount\u001b[38;5;241m.\u001b[39msign_transaction(end_trans, private_key\u001b[38;5;241m=\u001b[39mwallet_secret_key)\n\u001b[1;32m      6\u001b[0m \u001b[38;5;66;03m# send transaction\u001b[39;00m\n\u001b[0;32m----> 7\u001b[0m tx_hash \u001b[38;5;241m=\u001b[39m \u001b[43mweb3\u001b[49m\u001b[38;5;241;43m.\u001b[39;49m\u001b[43meth\u001b[49m\u001b[38;5;241;43m.\u001b[39;49m\u001b[43msend_raw_transaction\u001b[49m\u001b[43m(\u001b[49m\u001b[43mend_signed_tx\u001b[49m\u001b[38;5;241;43m.\u001b[39;49m\u001b[43mrawTransaction\u001b[49m\u001b[43m)\u001b[49m\n",
      "File \u001b[0;32m~/Library/Python/3.8/lib/python/site-packages/web3/eth/eth.py:392\u001b[0m, in \u001b[0;36mEth.send_raw_transaction\u001b[0;34m(self, transaction)\u001b[0m\n\u001b[1;32m    391\u001b[0m \u001b[38;5;28;01mdef\u001b[39;00m \u001b[38;5;21msend_raw_transaction\u001b[39m(\u001b[38;5;28mself\u001b[39m, transaction: Union[HexStr, \u001b[38;5;28mbytes\u001b[39m]) \u001b[38;5;241m-\u001b[39m\u001b[38;5;241m>\u001b[39m HexBytes:\n\u001b[0;32m--> 392\u001b[0m     \u001b[38;5;28;01mreturn\u001b[39;00m \u001b[38;5;28;43mself\u001b[39;49m\u001b[38;5;241;43m.\u001b[39;49m\u001b[43m_send_raw_transaction\u001b[49m\u001b[43m(\u001b[49m\u001b[43mtransaction\u001b[49m\u001b[43m)\u001b[49m\n",
      "File \u001b[0;32m~/Library/Python/3.8/lib/python/site-packages/web3/module.py:75\u001b[0m, in \u001b[0;36mretrieve_blocking_method_call_fn.<locals>.caller\u001b[0;34m(*args, **kwargs)\u001b[0m\n\u001b[1;32m     68\u001b[0m     \u001b[38;5;28;01mreturn\u001b[39;00m LogFilter(eth_module\u001b[38;5;241m=\u001b[39mmodule, filter_id\u001b[38;5;241m=\u001b[39merr\u001b[38;5;241m.\u001b[39mfilter_id)\n\u001b[1;32m     70\u001b[0m (\n\u001b[1;32m     71\u001b[0m     result_formatters,\n\u001b[1;32m     72\u001b[0m     error_formatters,\n\u001b[1;32m     73\u001b[0m     null_result_formatters,\n\u001b[1;32m     74\u001b[0m ) \u001b[38;5;241m=\u001b[39m response_formatters\n\u001b[0;32m---> 75\u001b[0m result \u001b[38;5;241m=\u001b[39m \u001b[43mw3\u001b[49m\u001b[38;5;241;43m.\u001b[39;49m\u001b[43mmanager\u001b[49m\u001b[38;5;241;43m.\u001b[39;49m\u001b[43mrequest_blocking\u001b[49m\u001b[43m(\u001b[49m\n\u001b[1;32m     76\u001b[0m \u001b[43m    \u001b[49m\u001b[43mmethod_str\u001b[49m\u001b[43m,\u001b[49m\u001b[43m \u001b[49m\u001b[43mparams\u001b[49m\u001b[43m,\u001b[49m\u001b[43m \u001b[49m\u001b[43merror_formatters\u001b[49m\u001b[43m,\u001b[49m\u001b[43m \u001b[49m\u001b[43mnull_result_formatters\u001b[49m\n\u001b[1;32m     77\u001b[0m \u001b[43m\u001b[49m\u001b[43m)\u001b[49m\n\u001b[1;32m     78\u001b[0m \u001b[38;5;28;01mreturn\u001b[39;00m apply_result_formatters(result_formatters, result)\n",
      "File \u001b[0;32m~/Library/Python/3.8/lib/python/site-packages/web3/manager.py:326\u001b[0m, in \u001b[0;36mRequestManager.request_blocking\u001b[0;34m(self, method, params, error_formatters, null_result_formatters)\u001b[0m\n\u001b[1;32m    322\u001b[0m \u001b[38;5;124;03m\"\"\"\u001b[39;00m\n\u001b[1;32m    323\u001b[0m \u001b[38;5;124;03mMake a synchronous request using the provider\u001b[39;00m\n\u001b[1;32m    324\u001b[0m \u001b[38;5;124;03m\"\"\"\u001b[39;00m\n\u001b[1;32m    325\u001b[0m response \u001b[38;5;241m=\u001b[39m \u001b[38;5;28mself\u001b[39m\u001b[38;5;241m.\u001b[39m_make_request(method, params)\n\u001b[0;32m--> 326\u001b[0m \u001b[38;5;28;01mreturn\u001b[39;00m \u001b[38;5;28;43mself\u001b[39;49m\u001b[38;5;241;43m.\u001b[39;49m\u001b[43mformatted_response\u001b[49m\u001b[43m(\u001b[49m\n\u001b[1;32m    327\u001b[0m \u001b[43m    \u001b[49m\u001b[43mresponse\u001b[49m\u001b[43m,\u001b[49m\u001b[43m \u001b[49m\u001b[43mparams\u001b[49m\u001b[43m,\u001b[49m\u001b[43m \u001b[49m\u001b[43merror_formatters\u001b[49m\u001b[43m,\u001b[49m\u001b[43m \u001b[49m\u001b[43mnull_result_formatters\u001b[49m\n\u001b[1;32m    328\u001b[0m \u001b[43m\u001b[49m\u001b[43m)\u001b[49m\n",
      "File \u001b[0;32m~/Library/Python/3.8/lib/python/site-packages/web3/manager.py:289\u001b[0m, in \u001b[0;36mRequestManager.formatted_response\u001b[0;34m(response, params, error_formatters, null_result_formatters)\u001b[0m\n\u001b[1;32m    283\u001b[0m         _raise_bad_response_format(\n\u001b[1;32m    284\u001b[0m             response, \u001b[38;5;124m\"\u001b[39m\u001b[38;5;124merror[\u001b[39m\u001b[38;5;124m'\u001b[39m\u001b[38;5;124mmessage\u001b[39m\u001b[38;5;124m'\u001b[39m\u001b[38;5;124m] must be a string\u001b[39m\u001b[38;5;124m\"\u001b[39m\n\u001b[1;32m    285\u001b[0m         )\n\u001b[1;32m    287\u001b[0m     apply_error_formatters(error_formatters, response)\n\u001b[0;32m--> 289\u001b[0m     \u001b[38;5;28;01mraise\u001b[39;00m \u001b[38;5;167;01mValueError\u001b[39;00m(error)\n\u001b[1;32m    291\u001b[0m \u001b[38;5;66;03m# Format and validate results\u001b[39;00m\n\u001b[1;32m    292\u001b[0m \u001b[38;5;28;01melif\u001b[39;00m \u001b[38;5;124m\"\u001b[39m\u001b[38;5;124mresult\u001b[39m\u001b[38;5;124m\"\u001b[39m \u001b[38;5;129;01min\u001b[39;00m response:\n\u001b[1;32m    293\u001b[0m     \u001b[38;5;66;03m# Null values for result should apply null_result_formatters\u001b[39;00m\n\u001b[1;32m    294\u001b[0m     \u001b[38;5;66;03m# Skip when result not present in the response (fallback to False)\u001b[39;00m\n",
      "\u001b[0;31mValueError\u001b[0m: {'message': 'VM Exception while processing transaction: revert', 'stack': 'RuntimeError: VM Exception while processing transaction: revert\\n    at EIP1559FeeMarketTransaction.fillFromResult (/Applications/Ganache.app/Contents/Resources/static/node/node_modules/ganache/dist/node/1.js:2:12745)\\n    at Miner.<anonymous> (/Applications/Ganache.app/Contents/Resources/static/node/node_modules/ganache/dist/node/1.js:2:36703)\\n    at async Miner.<anonymous> (/Applications/Ganache.app/Contents/Resources/static/node/node_modules/ganache/dist/node/1.js:2:35116)\\n    at async Miner.mine (/Applications/Ganache.app/Contents/Resources/static/node/node_modules/ganache/dist/node/1.js:2:39680)\\n    at async Blockchain.mine (/Applications/Ganache.app/Contents/Resources/static/node/node_modules/ganache/dist/node/1.js:2:60063)\\n    at async Promise.all (index 0)\\n    at async TransactionPool.emit (/Applications/Ganache.app/Contents/Resources/static/node/node_modules/ganache/node_modules/emittery/index.js:303:3)', 'code': -32000, 'name': 'RuntimeError', 'data': {'hash': '0xa12d8caf1c62539fca7e92a3b1c7ba2202b01ef0b9dfd7785852b4cda8582c4b', 'programCounter': 823, 'result': '0xa12d8caf1c62539fca7e92a3b1c7ba2202b01ef0b9dfd7785852b4cda8582c4b', 'reason': None, 'message': 'revert'}}"
     ]
    }
   ],
   "source": [
    "# end event\n",
    "# build\n",
    "end_trans = contract.functions.endEvent(2).build_transaction(end_transaction)\n",
    "# sign\n",
    "end_signed_tx = web3.eth.account.sign_transaction(end_trans, private_key=wallet_secret_key)\n",
    "# send transaction\n",
    "tx_hash = web3.eth.send_raw_transaction(end_signed_tx.rawTransaction)"
   ]
  },
  {
   "cell_type": "markdown",
   "metadata": {},
   "source": [
    "Deploy Contract"
   ]
  },
  {
   "cell_type": "code",
   "execution_count": 9,
   "metadata": {},
   "outputs": [],
   "source": [
    "with open(\"../contract/contracts/Event.sol\", \"r\") as file:\n",
    "    contract_data = file.read()\n",
    "\n",
    "# print(contract_data)"
   ]
  },
  {
   "cell_type": "code",
   "execution_count": 22,
   "metadata": {},
   "outputs": [
    {
     "name": "stdout",
     "output_type": "stream",
     "text": [
      "[{'inputs': [{'internalType': 'string', 'name': 'name', 'type': 'string'}, {'internalType': 'string[]', 'name': 'optionNames', 'type': 'string[]'}, {'internalType': 'uint256', 'name': 'due', 'type': 'uint256'}], 'stateMutability': 'nonpayable', 'type': 'constructor'}, {'inputs': [], 'name': 'cancel', 'outputs': [], 'stateMutability': 'nonpayable', 'type': 'function'}, {'inputs': [], 'name': 'dueDate', 'outputs': [{'internalType': 'uint256', 'name': '', 'type': 'uint256'}], 'stateMutability': 'view', 'type': 'function'}, {'inputs': [{'internalType': 'uint256', 'name': 'selection', 'type': 'uint256'}], 'name': 'endEvent', 'outputs': [], 'stateMutability': 'nonpayable', 'type': 'function'}, {'inputs': [{'internalType': 'uint256', 'name': 'selection', 'type': 'uint256'}], 'name': 'enter', 'outputs': [], 'stateMutability': 'payable', 'type': 'function'}, {'inputs': [], 'name': 'eventName', 'outputs': [{'internalType': 'string', 'name': '', 'type': 'string'}], 'stateMutability': 'view', 'type': 'function'}, {'inputs': [], 'name': 'getProfile', 'outputs': [{'internalType': 'string', 'name': '', 'type': 'string'}, {'internalType': 'uint256', 'name': '', 'type': 'uint256'}, {'components': [{'internalType': 'uint256', 'name': 'id', 'type': 'uint256'}, {'internalType': 'string', 'name': 'name', 'type': 'string'}, {'internalType': 'uint256', 'name': 'count', 'type': 'uint256'}], 'internalType': 'struct Event.Option[]', 'name': '', 'type': 'tuple[]'}, {'components': [{'internalType': 'address', 'name': 'account', 'type': 'address'}, {'internalType': 'uint256', 'name': 'price', 'type': 'uint256'}, {'internalType': 'uint256', 'name': 'selection', 'type': 'uint256'}], 'internalType': 'struct Event.Player[]', 'name': '', 'type': 'tuple[]'}], 'stateMutability': 'view', 'type': 'function'}, {'inputs': [], 'name': 'getTotalPrice', 'outputs': [{'internalType': 'uint256', 'name': '', 'type': 'uint256'}], 'stateMutability': 'view', 'type': 'function'}, {'inputs': [{'internalType': 'uint256', 'name': 'selection', 'type': 'uint256'}], 'name': 'getWinnerCount', 'outputs': [{'internalType': 'uint256', 'name': '', 'type': 'uint256'}], 'stateMutability': 'view', 'type': 'function'}, {'inputs': [], 'name': 'manager', 'outputs': [{'internalType': 'address', 'name': '', 'type': 'address'}], 'stateMutability': 'view', 'type': 'function'}, {'inputs': [{'internalType': 'uint256', 'name': '', 'type': 'uint256'}], 'name': 'options', 'outputs': [{'internalType': 'uint256', 'name': 'id', 'type': 'uint256'}, {'internalType': 'string', 'name': 'name', 'type': 'string'}, {'internalType': 'uint256', 'name': 'count', 'type': 'uint256'}], 'stateMutability': 'view', 'type': 'function'}, {'inputs': [{'internalType': 'uint256', 'name': '', 'type': 'uint256'}], 'name': 'players', 'outputs': [{'internalType': 'address', 'name': 'account', 'type': 'address'}, {'internalType': 'uint256', 'name': 'price', 'type': 'uint256'}, {'internalType': 'uint256', 'name': 'selection', 'type': 'uint256'}], 'stateMutability': 'view', 'type': 'function'}]\n"
     ]
    }
   ],
   "source": [
    "# from solcx import compile_source\n",
    "# compiled = compile_source(contract_data,\n",
    "#     output_values=['abi', 'bin']\n",
    "# )\n",
    "# contract_id, contract_interface = compiled.popitem()\n",
    "\n",
    "from solcx import compile_standard, install_solc\n",
    "\n",
    "install_solc('0.8.19')\n",
    "\n",
    "compiled_sol = compile_standard(\n",
    "    {\n",
    "        \"language\": \"Solidity\",\n",
    "        \"sources\": {\"Event.sol\": {\"content\": contract_data}},\n",
    "        \"settings\": {\n",
    "            \"outputSelection\": {\n",
    "                \"*\": {\n",
    "                    \"*\": [\"abi\", \"metadata\", \"evm.bytecode\", \"evm.bytecode.sourceMap\"] # output needed to interact with and deploy contract \n",
    "                }\n",
    "            }\n",
    "        }\n",
    "    },\n",
    "    solc_version=\"0.8.19\"\n",
    ")\n",
    "# print(compiled_sol)\n",
    "# with open(\"../contract/build/contracts/compiled_code.json\", \"w\") as file:\n",
    "#     json.dump(compiled_sol, file)\n",
    "\n",
    "bytecode = compiled_sol[\"contracts\"][\"Event.sol\"][\"Event\"][\"evm\"][\"bytecode\"][\"object\"]\n",
    "abi = compiled_sol[\"contracts\"][\"Event.sol\"][\"Event\"][\"abi\"]\n",
    "print(compiled_sol[\"contracts\"][\"Event.sol\"][\"Event\"][\"abi\"])"
   ]
  },
  {
   "cell_type": "code",
   "execution_count": 729,
   "metadata": {},
   "outputs": [
    {
     "name": "stdout",
     "output_type": "stream",
     "text": [
      "<stdin>:Event\n"
     ]
    }
   ],
   "source": [
    "# print(contract_id)\n",
    "\n",
    "# print(contract_interface)\n",
    "# bytecode = contract_interface['bin']\n",
    "# abi = contract_interface['abi']"
   ]
  },
  {
   "cell_type": "code",
   "execution_count": 11,
   "metadata": {},
   "outputs": [],
   "source": [
    "import time\n",
    "now = round(time.time())"
   ]
  },
  {
   "cell_type": "code",
   "execution_count": 40,
   "metadata": {},
   "outputs": [],
   "source": [
    "# web3.eth.default_account = wallet_address\n",
    "\n",
    "deployContract = web3.eth.contract(abi=abi, bytecode= bytecode)\n",
    "\n",
    "transaction = {\n",
    "   'chainId': chainId,\n",
    "   'from': wallet_address,\n",
    "   'nonce': web3.eth.get_transaction_count(wallet_address),\n",
    "   'gasPrice': web3.eth.gas_price\n",
    "}\n",
    "\n",
    "tx_builded = deployContract.constructor('custom2', ['x', 'y', 'z'], 1714435654).build_transaction(transaction)\n",
    "# transaction"
   ]
  },
  {
   "cell_type": "code",
   "execution_count": 41,
   "metadata": {},
   "outputs": [],
   "source": [
    "signed_build = web3.eth.account.sign_transaction(tx_builded, private_key=wallet_secret_key)"
   ]
  },
  {
   "cell_type": "code",
   "execution_count": 42,
   "metadata": {},
   "outputs": [],
   "source": [
    "tx_hash = web3.eth.send_raw_transaction(signed_build.rawTransaction)"
   ]
  },
  {
   "cell_type": "code",
   "execution_count": 43,
   "metadata": {},
   "outputs": [
    {
     "name": "stdout",
     "output_type": "stream",
     "text": [
      "Done! Contract deployed to 0x3FEC118b361cbf59613E5795ef2Cfb7485569C24\n"
     ]
    }
   ],
   "source": [
    "transaction_receipt = web3.eth.wait_for_transaction_receipt(tx_hash)\n",
    "print(f\"Done! Contract deployed to {transaction_receipt.contractAddress}\")"
   ]
  }
 ],
 "metadata": {
  "kernelspec": {
   "display_name": "Python 3",
   "language": "python",
   "name": "python3"
  },
  "language_info": {
   "codemirror_mode": {
    "name": "ipython",
    "version": 3
   },
   "file_extension": ".py",
   "mimetype": "text/x-python",
   "name": "python",
   "nbconvert_exporter": "python",
   "pygments_lexer": "ipython3",
   "version": "3.8.9"
  }
 },
 "nbformat": 4,
 "nbformat_minor": 2
}
