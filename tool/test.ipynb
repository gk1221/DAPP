{
 "cells": [
  {
   "cell_type": "code",
   "execution_count": 54,
   "metadata": {},
   "outputs": [],
   "source": [
    "from web3 import HTTPProvider, Web3\n",
    "import json\n",
    "import time\n"
   ]
  },
  {
   "cell_type": "code",
   "execution_count": 9,
   "metadata": {},
   "outputs": [
    {
     "name": "stdout",
     "output_type": "stream",
     "text": [
      "True\n",
      "AttributeDict({'hash': HexBytes('0x2b6fc07d15da4237aad2b32cd64a0d4391f1d6c0f49c5cf1a588a01ec2af0a66'), 'parentHash': HexBytes('0x264293dee9fea38d7cd0280882d5d6be3a14959a65222c6c710c238eb326844d'), 'sha3Uncles': HexBytes('0x1dcc4de8dec75d7aab85b567b6ccd41ad312451b948a7413f0a142fd40d49347'), 'miner': '0x0000000000000000000000000000000000000000', 'stateRoot': HexBytes('0x40535597a77001a86d2aeb881390e63d9130647ab4e7c8ba84529632887080bc'), 'transactionsRoot': HexBytes('0x31db38874dc965f976fb2f2722ce07c1d30c2383f2f58ee2f6ce97f40d8fcb72'), 'receiptsRoot': HexBytes('0xad57dd3d2418df25a6655d08565c7b8e392a9a6a1c42f33e499ce7fde80e442a'), 'logsBloom': HexBytes('0x00000000000000000000000000000000000000000000000000000000000000000000000000000000000000000000000000000000000000000000000000000000000000000000000000000000000000000000000000000000000000000000000000000000000000000000000000000000000000000000000000000000000000000000000000000000000000000000000000000000000000000000000000000000000000000000000000000000000000000000000000000000000000000000000000000000000000000000000000000000000000000000000000000000000000000000000000000000000000000000000000000000000000000000000000000000'), 'difficulty': 0, 'number': 1, 'gasLimit': 6721975, 'gasUsed': 318009, 'timestamp': 1711105447, 'extraData': HexBytes('0x'), 'mixHash': HexBytes('0xcbaa7f573d4d89eb568b2d4030f0ee75dd95f5e0756fbd2237e9f9aa95e6ce34'), 'nonce': HexBytes('0x0000000000000000'), 'totalDifficulty': 0, 'baseFeePerGas': 875000000, 'size': 1830, 'transactions': [HexBytes('0x286c8cedcb97a621759a74a176cd221891c3abfd900011c7f8323432f30d816c')], 'uncles': []})\n"
     ]
    }
   ],
   "source": [
    "#連線到剛啟動的Ganache RPC Server\n",
    "web3 = Web3(HTTPProvider('http://127.0.0.1:7545'))\n",
    "block = web3.eth.get_block('latest')\n",
    "#可以看到目前的區塊高度等資訊\n",
    "print(web3.is_connected())\n",
    "print(block)\n"
   ]
  },
  {
   "cell_type": "code",
   "execution_count": 70,
   "metadata": {},
   "outputs": [
    {
     "name": "stdout",
     "output_type": "stream",
     "text": [
      "0xc744C4ceC8f66F77Ccff8dEA39f337cF08E13191\n",
      "ETH: 98995787386661285235 wei\n"
     ]
    }
   ],
   "source": [
    "wallet_address = web3.eth.accounts[0]\n",
    "print(wallet_address)\n",
    "\n",
    "balance_eth = web3.eth.get_balance(wallet_address)\n",
    "print('ETH:', balance_eth, 'wei')\n",
    "\n",
    "#user 1\n",
    "wallet_address = '0xc744C4ceC8f66F77Ccff8dEA39f337cF08E13191'\n",
    "wallet_secret_key = '0x8ffd351de490160082d9172ae8be79a9c21d32562c673f88b88996baba098364'\n",
    "\n",
    "#user 1\n",
    "# wallet_address = '0x15AE584D068da5DAeF9A7Ef0d5a575BaECe37f64'\n",
    "# wallet_secret_key = '0xd41f97b2e2bea376966534b8ab9ee2458f0fa4d2ff72d06eeca69129d8c07d12'\n",
    "\n",
    "#user 1\n",
    "# wallet_address = '0x50F6968f9067E6BcB6B9ff5b41dCb53543f2F0Ee'\n",
    "# wallet_secret_key = '0x6fef5af23b5ad47e2922128dfd33cc89763af1727f9d11e30c6523531e633dd4'"
   ]
  },
  {
   "cell_type": "code",
   "execution_count": 71,
   "metadata": {},
   "outputs": [
    {
     "name": "stdout",
     "output_type": "stream",
     "text": [
      "<web3._utils.datatypes.Contract object at 0x10e58cf40>\n",
      "contract functions: %s <Function manager()>\n",
      "contract functions: %s <Function players(uint256)>\n",
      "contract functions: %s <Function enter()>\n",
      "contract functions: %s <Function getPlayers()>\n"
     ]
    }
   ],
   "source": [
    "contract = web3.eth.contract(address='0x4872A8C7c2d550Ab0Ae09d1a253759c951dE561d', abi='[{\"inputs\":[],\"stateMutability\":\"nonpayable\",\"type\":\"constructor\"},{\"inputs\":[],\"name\":\"manager\",\"outputs\":[{\"internalType\":\"address\",\"name\":\"\",\"type\":\"address\"}],\"stateMutability\":\"view\",\"type\":\"function\",\"constant\":true},{\"inputs\":[{\"internalType\":\"uint256\",\"name\":\"\",\"type\":\"uint256\"}],\"name\":\"players\",\"outputs\":[{\"internalType\":\"address payable\",\"name\":\"\",\"type\":\"address\"}],\"stateMutability\":\"view\",\"type\":\"function\",\"constant\":true},{\"inputs\":[],\"name\":\"enter\",\"outputs\":[],\"stateMutability\":\"payable\",\"type\":\"function\",\"payable\":true},{\"inputs\":[],\"name\":\"getPlayers\",\"outputs\":[{\"internalType\":\"address payable[]\",\"name\":\"\",\"type\":\"address[]\"}],\"stateMutability\":\"view\",\"type\":\"function\",\"constant\":true}]')\n",
    "print(contract)\n",
    "\n",
    "for func in contract.all_functions():\n",
    "   print('contract functions: %s', func)\n"
   ]
  },
  {
   "cell_type": "code",
   "execution_count": 72,
   "metadata": {},
   "outputs": [
    {
     "name": "stdout",
     "output_type": "stream",
     "text": [
      "1337\n",
      "0\n",
      "20000000000\n",
      "{'from': '0xc744C4ceC8f66F77Ccff8dEA39f337cF08E13191', 'value': 5000000000000000000, 'nonce': 9, 'gas': 200000, 'maxFeePerGas': 2000000000, 'maxPriorityFeePerGas': 1000000000}\n"
     ]
    }
   ],
   "source": [
    "print(web3.eth.chain_id)\n",
    "print(web3.eth.get_transaction_count('0x1B5eE6f9Dc400Fb219cD9193FCdB75b7adec2288'))\n",
    "print(web3.eth.gas_price)\n",
    "transaction = {\n",
    "   'from': wallet_address,\n",
    "   'value': web3.to_wei(5, 'ether'),\n",
    "   'nonce': web3.eth.get_transaction_count(wallet_address),\n",
    "   'gas': 200000,\n",
    "   'maxFeePerGas': 2000000000,\n",
    "   'maxPriorityFeePerGas': 1000000000,\n",
    "}\n",
    "print(transaction)"
   ]
  },
  {
   "cell_type": "code",
   "execution_count": 73,
   "metadata": {},
   "outputs": [],
   "source": [
    "pre_trans = contract.functions.enter().build_transaction(transaction)"
   ]
  },
  {
   "cell_type": "code",
   "execution_count": 74,
   "metadata": {},
   "outputs": [
    {
     "name": "stdout",
     "output_type": "stream",
     "text": [
      "SignedTransaction(rawTransaction=HexBytes('0x02f87982053909843b9aca00847735940083030d40944872a8c7c2d550ab0ae09d1a253759c951de561d884563918244f4000084e97dcb62c080a0fa714c7be3001c390c4bf51cbda407dabc25461fbc0d0023fd26be0d9247ab5ba0351f5ccf08275170d1e3a67fe9a74e7368c36cc7b9e2d76416f6c826f59c121e'), hash=HexBytes('0xbd86cfa912a4978ff98ed27cda5625af070a42bdb0433752ab408e29621867e3'), r=113278393736838286226074526423896490576808784463370621675158543011622796372827, s=24027993776152786202999932464289102019363813733018353241979304875026586276382, v=0)\n"
     ]
    }
   ],
   "source": [
    "signed_tx = web3.eth.account.sign_transaction(pre_trans, private_key=wallet_secret_key)\n",
    "\n",
    "print(signed_tx)\n"
   ]
  },
  {
   "cell_type": "code",
   "execution_count": 75,
   "metadata": {},
   "outputs": [
    {
     "name": "stdout",
     "output_type": "stream",
     "text": [
      "b\"\\x02\\xf8y\\x82\\x059\\t\\x84;\\x9a\\xca\\x00\\x84w5\\x94\\x00\\x83\\x03\\r@\\x94Hr\\xa8\\xc7\\xc2\\xd5P\\xab\\n\\xe0\\x9d\\x1a%7Y\\xc9Q\\xdeV\\x1d\\x88Ec\\x91\\x82D\\xf4\\x00\\x00\\x84\\xe9}\\xcbb\\xc0\\x80\\xa0\\xfaqL{\\xe3\\x00\\x1c9\\x0cK\\xf5\\x1c\\xbd\\xa4\\x07\\xda\\xbc%F\\x1f\\xbc\\r\\x00#\\xfd&\\xbe\\r\\x92G\\xab[\\xa05\\x1f\\\\\\xcf\\x08'Qp\\xd1\\xe3\\xa6\\x7f\\xe9\\xa7Nsh\\xc3l\\xc7\\xb9\\xe2\\xd7d\\x16\\xf6\\xc8&\\xf5\\x9c\\x12\\x1e\"\n"
     ]
    }
   ],
   "source": [
    "print(signed_tx.rawTransaction)\n",
    "tx_hash = web3.eth.send_raw_transaction(signed_tx.rawTransaction)"
   ]
  },
  {
   "cell_type": "code",
   "execution_count": 76,
   "metadata": {},
   "outputs": [
    {
     "data": {
      "text/plain": [
       "['0x15AE584D068da5DAeF9A7Ef0d5a575BaECe37f64',\n",
       " '0xc744C4ceC8f66F77Ccff8dEA39f337cF08E13191']"
      ]
     },
     "execution_count": 76,
     "metadata": {},
     "output_type": "execute_result"
    }
   ],
   "source": [
    "contract.functions.getPlayers().call()"
   ]
  }
 ],
 "metadata": {
  "kernelspec": {
   "display_name": "Python 3",
   "language": "python",
   "name": "python3"
  },
  "language_info": {
   "codemirror_mode": {
    "name": "ipython",
    "version": 3
   },
   "file_extension": ".py",
   "mimetype": "text/x-python",
   "name": "python",
   "nbconvert_exporter": "python",
   "pygments_lexer": "ipython3",
   "version": "3.8.9"
  }
 },
 "nbformat": 4,
 "nbformat_minor": 2
}
