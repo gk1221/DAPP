{
 "cells": [
  {
   "cell_type": "code",
   "execution_count": null,
   "metadata": {},
   "outputs": [],
   "source": [
    "from web3 import HTTPProvider, Web3\n",
    "import json\n",
    "import time\n"
   ]
  },
  {
   "cell_type": "code",
   "execution_count": null,
   "metadata": {},
   "outputs": [],
   "source": [
    "#連線到剛啟動的Ganache RPC Server\n",
    "web3 = Web3(HTTPProvider('http://127.0.0.1:7545'))\n",
    "# block = web3.eth.get_block('latest', full_transactions=False)\n",
    "block = web3.eth.get_block(36, full_transactions=False)\n",
    "#可以看到目前的區塊高度等資訊\n",
    "# print(web3.is_connected())\n",
    "# print(block)\n",
    "# 取得 Transaction Address\n",
    "transaction_address = block.transactions[0]\n",
    "# print(contract_address)\n",
    "# print(block.transactions[0])"
   ]
  },
  {
   "cell_type": "code",
   "execution_count": null,
   "metadata": {},
   "outputs": [],
   "source": [
    "receipt = web3.eth.get_transaction_receipt(transaction_address)\n",
    "# 0x136e09721e428f3b4685016efbe00b18eaf51a432138798176e51e2dedd5553f\n",
    "# web3.eth.get_block_number()\n",
    "# print(receipt)\n",
    "contract_address = (receipt.contractAddress)\n",
    "print(contract_address)"
   ]
  },
  {
   "cell_type": "markdown",
   "metadata": {},
   "source": []
  },
  {
   "cell_type": "code",
   "execution_count": null,
   "metadata": {},
   "outputs": [],
   "source": [
    "wallet_address = web3.eth.accounts[0]\n",
    "balance_eth = web3.eth.get_balance(wallet_address)\n",
    "chainId = web3.eth.chain_id\n",
    "print(chainId)\n",
    "\n",
    "#user 1\n",
    "wallet_address = '0xc744C4ceC8f66F77Ccff8dEA39f337cF08E13191'\n",
    "wallet_secret_key = '0x8ffd351de490160082d9172ae8be79a9c21d32562c673f88b88996baba098364'\n",
    "# \n",
    "#user 1\n",
    "# wallet_address = '0x15AE584D068da5DAeF9A7Ef0d5a575BaECe37f64'\n",
    "# wallet_secret_key = '0xd41f97b2e2bea376966534b8ab9ee2458f0fa4d2ff72d06eeca69129d8c07d12'\n",
    "\n",
    "#user 1\n",
    "# wallet_address = '0x50F6968f9067E6BcB6B9ff5b41dCb53543f2F0Ee'\n",
    "# wallet_secret_key = '0x6fef5af23b5ad47e2922128dfd33cc89763af1727f9d11e30c6523531e633dd4'"
   ]
  },
  {
   "cell_type": "code",
   "execution_count": null,
   "metadata": {},
   "outputs": [],
   "source": [
    "#需要更新contract address 和 abi\n",
    "# contract = web3.eth.contract(address='0xDed229C9d6c76192b0D26212C9A2B5193C0D0e81', abi='[{\"inputs\":[{\"internalType\":\"string\",\"name\":\"name\",\"type\":\"string\"},{\"internalType\":\"string[]\",\"name\":\"optionNames\",\"type\":\"string[]\"},{\"internalType\":\"uint256\",\"name\":\"due\",\"type\":\"uint256\"}],\"stateMutability\":\"nonpayable\",\"type\":\"constructor\"},{\"inputs\":[],\"name\":\"dueDate\",\"outputs\":[{\"internalType\":\"uint256\",\"name\":\"\",\"type\":\"uint256\"}],\"stateMutability\":\"view\",\"type\":\"function\",\"constant\":true},{\"inputs\":[],\"name\":\"eventName\",\"outputs\":[{\"internalType\":\"string\",\"name\":\"\",\"type\":\"string\"}],\"stateMutability\":\"view\",\"type\":\"function\",\"constant\":true},{\"inputs\":[],\"name\":\"manager\",\"outputs\":[{\"internalType\":\"address\",\"name\":\"\",\"type\":\"address\"}],\"stateMutability\":\"view\",\"type\":\"function\",\"constant\":true},{\"inputs\":[{\"internalType\":\"uint256\",\"name\":\"\",\"type\":\"uint256\"}],\"name\":\"options\",\"outputs\":[{\"internalType\":\"uint256\",\"name\":\"id\",\"type\":\"uint256\"},{\"internalType\":\"string\",\"name\":\"name\",\"type\":\"string\"},{\"internalType\":\"uint256\",\"name\":\"count\",\"type\":\"uint256\"}],\"stateMutability\":\"view\",\"type\":\"function\",\"constant\":true},{\"inputs\":[{\"internalType\":\"uint256\",\"name\":\"\",\"type\":\"uint256\"}],\"name\":\"players\",\"outputs\":[{\"internalType\":\"address\",\"name\":\"account\",\"type\":\"address\"},{\"internalType\":\"uint256\",\"name\":\"price\",\"type\":\"uint256\"},{\"internalType\":\"uint256\",\"name\":\"selection\",\"type\":\"uint256\"}],\"stateMutability\":\"view\",\"type\":\"function\",\"constant\":true},{\"inputs\":[{\"internalType\":\"uint256\",\"name\":\"selection\",\"type\":\"uint256\"}],\"name\":\"enter\",\"outputs\":[],\"stateMutability\":\"payable\",\"type\":\"function\",\"payable\":true},{\"inputs\":[],\"name\":\"getProfile\",\"outputs\":[{\"internalType\":\"string\",\"name\":\"\",\"type\":\"string\"},{\"internalType\":\"uint256\",\"name\":\"\",\"type\":\"uint256\"},{\"components\":[{\"internalType\":\"uint256\",\"name\":\"id\",\"type\":\"uint256\"},{\"internalType\":\"string\",\"name\":\"name\",\"type\":\"string\"},{\"internalType\":\"uint256\",\"name\":\"count\",\"type\":\"uint256\"}],\"internalType\":\"struct Event.Option[]\",\"name\":\"\",\"type\":\"tuple[]\"},{\"components\":[{\"internalType\":\"address\",\"name\":\"account\",\"type\":\"address\"},{\"internalType\":\"uint256\",\"name\":\"price\",\"type\":\"uint256\"},{\"internalType\":\"uint256\",\"name\":\"selection\",\"type\":\"uint256\"}],\"internalType\":\"struct Event.Player[]\",\"name\":\"\",\"type\":\"tuple[]\"}],\"stateMutability\":\"view\",\"type\":\"function\",\"constant\":true},{\"inputs\":[{\"internalType\":\"uint256\",\"name\":\"selection\",\"type\":\"uint256\"}],\"name\":\"getWinnerCount\",\"outputs\":[{\"internalType\":\"uint256\",\"name\":\"\",\"type\":\"uint256\"}],\"stateMutability\":\"view\",\"type\":\"function\",\"constant\":true},{\"inputs\":[{\"internalType\":\"uint256\",\"name\":\"selection\",\"type\":\"uint256\"}],\"name\":\"endEvent\",\"outputs\":[],\"stateMutability\":\"nonpayable\",\"type\":\"function\"},{\"inputs\":[],\"name\":\"withdraw\",\"outputs\":[],\"stateMutability\":\"nonpayable\",\"type\":\"function\"},{\"inputs\":[],\"name\":\"getTotalPrice\",\"outputs\":[{\"internalType\":\"uint256\",\"name\":\"\",\"type\":\"uint256\"}],\"stateMutability\":\"view\",\"type\":\"function\",\"constant\":true}]')\n",
    "contract = web3.eth.contract(address=contract_address, abi='[{\"inputs\": [{\"internalType\": \"string\", \"name\": \"name\", \"type\": \"string\"}, {\"internalType\": \"string[]\", \"name\": \"optionNames\", \"type\": \"string[]\"}, {\"internalType\": \"uint256\", \"name\": \"due\", \"type\": \"uint256\"}], \"stateMutability\": \"nonpayable\", \"type\": \"constructor\"}, {\"inputs\": [], \"name\": \"cancel\", \"outputs\": [], \"stateMutability\": \"nonpayable\", \"type\": \"function\"}, {\"inputs\": [], \"name\": \"dueDate\", \"outputs\": [{\"internalType\": \"uint256\", \"name\": \"\", \"type\": \"uint256\"}], \"stateMutability\": \"view\", \"type\": \"function\"}, {\"inputs\": [{\"internalType\": \"uint256\", \"name\": \"selection\", \"type\": \"uint256\"}], \"name\": \"endEvent\", \"outputs\": [], \"stateMutability\": \"nonpayable\", \"type\": \"function\"}, {\"inputs\": [{\"internalType\": \"uint256\", \"name\": \"selection\", \"type\": \"uint256\"}], \"name\": \"enter\", \"outputs\": [], \"stateMutability\": \"payable\", \"type\": \"function\"}, {\"inputs\": [], \"name\": \"eventName\", \"outputs\": [{\"internalType\": \"string\", \"name\": \"\", \"type\": \"string\"}], \"stateMutability\": \"view\", \"type\": \"function\"}, {\"inputs\": [], \"name\": \"getProfile\", \"outputs\": [{\"internalType\": \"string\", \"name\": \"\", \"type\": \"string\"}, {\"internalType\": \"uint256\", \"name\": \"\", \"type\": \"uint256\"}, {\"components\": [{\"internalType\": \"uint256\", \"name\": \"id\", \"type\": \"uint256\"}, {\"internalType\": \"string\", \"name\": \"name\", \"type\": \"string\"}, {\"internalType\": \"uint256\", \"name\": \"count\", \"type\": \"uint256\"}], \"internalType\": \"struct Event.Option[]\", \"name\": \"\", \"type\": \"tuple[]\"}, {\"components\": [{\"internalType\": \"address\", \"name\": \"account\", \"type\": \"address\"}, {\"internalType\": \"uint256\", \"name\": \"price\", \"type\": \"uint256\"}, {\"internalType\": \"uint256\", \"name\": \"selection\", \"type\": \"uint256\"}], \"internalType\": \"struct Event.Player[]\", \"name\": \"\", \"type\": \"tuple[]\"}, {\"internalType\": \"bool\", \"name\": \"\", \"type\": \"bool\"}], \"stateMutability\": \"view\", \"type\": \"function\"}, {\"inputs\": [], \"name\": \"getTotalPrice\", \"outputs\": [{\"internalType\": \"uint256\", \"name\": \"\", \"type\": \"uint256\"}], \"stateMutability\": \"view\", \"type\": \"function\"}, {\"inputs\": [{\"internalType\": \"uint256\", \"name\": \"selection\", \"type\": \"uint256\"}], \"name\": \"getWinnerCount\", \"outputs\": [{\"internalType\": \"uint256\", \"name\": \"\", \"type\": \"uint256\"}], \"stateMutability\": \"view\", \"type\": \"function\"}, {\"inputs\": [], \"name\": \"isAlive\", \"outputs\": [{\"internalType\": \"bool\", \"name\": \"\", \"type\": \"bool\"}], \"stateMutability\": \"view\", \"type\": \"function\"}, {\"inputs\": [], \"name\": \"manager\", \"outputs\": [{\"internalType\": \"address\", \"name\": \"\", \"type\": \"address\"}], \"stateMutability\": \"view\", \"type\": \"function\"}, {\"inputs\": [{\"internalType\": \"uint256\", \"name\": \"\", \"type\": \"uint256\"}], \"name\": \"options\", \"outputs\": [{\"internalType\": \"uint256\", \"name\": \"id\", \"type\": \"uint256\"}, {\"internalType\": \"string\", \"name\": \"name\", \"type\": \"string\"}, {\"internalType\": \"uint256\", \"name\": \"count\", \"type\": \"uint256\"}], \"stateMutability\": \"view\", \"type\": \"function\"}, {\"inputs\": [{\"internalType\": \"uint256\", \"name\": \"\", \"type\": \"uint256\"}], \"name\": \"players\", \"outputs\": [{\"internalType\": \"address\", \"name\": \"account\", \"type\": \"address\"}, {\"internalType\": \"uint256\", \"name\": \"price\", \"type\": \"uint256\"}, {\"internalType\": \"uint256\", \"name\": \"selection\", \"type\": \"uint256\"}], \"stateMutability\": \"view\", \"type\": \"function\"}]')\n",
    "# print(contract)\n",
    "\n",
    "# for func in contract.all_functions():\n",
    "#    print('contract functions: %s', func)\n"
   ]
  },
  {
   "cell_type": "code",
   "execution_count": null,
   "metadata": {},
   "outputs": [],
   "source": [
    "contract.functions.getProfile().call()"
   ]
  },
  {
   "cell_type": "code",
   "execution_count": null,
   "metadata": {},
   "outputs": [],
   "source": [
    "# print(web3.eth.chain_id)\n",
    "# print(web3.eth.get_transaction_count('0x1B5eE6f9Dc400Fb219cD9193FCdB75b7adec2288'))\n",
    "# print(web3.eth.gas_price)\n",
    "transaction = {\n",
    "   'from': wallet_address,\n",
    "   'value': web3.to_wei(5, 'ether'),\n",
    "   'nonce': web3.eth.get_transaction_count(wallet_address),\n",
    "   'gas': 2000000,\n",
    "   'maxFeePerGas': 2000000000,\n",
    "   'maxPriorityFeePerGas': 1000000000,\n",
    "}\n",
    "print(transaction)"
   ]
  },
  {
   "cell_type": "code",
   "execution_count": null,
   "metadata": {},
   "outputs": [],
   "source": [
    "pre_trans = contract.functions.enter(1).build_transaction(transaction)"
   ]
  },
  {
   "cell_type": "code",
   "execution_count": null,
   "metadata": {},
   "outputs": [],
   "source": [
    "signed_tx = web3.eth.account.sign_transaction(pre_trans, private_key=wallet_secret_key)\n",
    "\n",
    "print(signed_tx)\n"
   ]
  },
  {
   "cell_type": "code",
   "execution_count": null,
   "metadata": {},
   "outputs": [],
   "source": [
    "print(signed_tx.rawTransaction)\n",
    "tx_hash = web3.eth.send_raw_transaction(signed_tx.rawTransaction)"
   ]
  },
  {
   "cell_type": "code",
   "execution_count": null,
   "metadata": {},
   "outputs": [],
   "source": [
    "cancel_transaction = {\n",
    "   'from': wallet_address,\n",
    "   'nonce': web3.eth.get_transaction_count(wallet_address),\n",
    "   'gas': 253000\n",
    "}\n",
    "\n",
    "web3.eth.estimate_gas(cancel_transaction)"
   ]
  },
  {
   "cell_type": "code",
   "execution_count": null,
   "metadata": {},
   "outputs": [],
   "source": [
    "# end event\n",
    "# build\n",
    "cancel_trans = contract.functions.cancel().build_transaction(cancel_transaction)\n",
    "# sign\n",
    "cancel_signed_tx = web3.eth.account.sign_transaction(cancel_trans, private_key=wallet_secret_key)\n",
    "# send transaction\n",
    "tx_hash = web3.eth.send_raw_transaction(cancel_signed_tx.rawTransaction)"
   ]
  },
  {
   "cell_type": "code",
   "execution_count": null,
   "metadata": {},
   "outputs": [],
   "source": [
    "contract.functions.getWinnerCount(2).call()"
   ]
  },
  {
   "cell_type": "code",
   "execution_count": null,
   "metadata": {},
   "outputs": [],
   "source": [
    "contract.functions.getTotalPrice().call()"
   ]
  },
  {
   "cell_type": "code",
   "execution_count": null,
   "metadata": {},
   "outputs": [],
   "source": [
    "end_transaction = {\n",
    "   'from': wallet_address,\n",
    "   'nonce': web3.eth.get_transaction_count(wallet_address),\n",
    "   'gas': 253000\n",
    "}\n",
    "\n",
    "web3.eth.estimate_gas(end_transaction)"
   ]
  },
  {
   "cell_type": "code",
   "execution_count": null,
   "metadata": {},
   "outputs": [],
   "source": [
    "# end event\n",
    "# build\n",
    "end_trans = contract.functions.endEvent(2).build_transaction(end_transaction)\n",
    "# sign\n",
    "end_signed_tx = web3.eth.account.sign_transaction(end_trans, private_key=wallet_secret_key)\n",
    "# send transaction\n",
    "tx_hash = web3.eth.send_raw_transaction(end_signed_tx.rawTransaction)"
   ]
  },
  {
   "cell_type": "markdown",
   "metadata": {},
   "source": [
    "Deploy Contract"
   ]
  },
  {
   "cell_type": "code",
   "execution_count": null,
   "metadata": {},
   "outputs": [],
   "source": [
    "with open(\"../contract/contracts/Event.sol\", \"r\") as file:\n",
    "    contract_data = file.read()\n",
    "\n",
    "# print(contract_data)"
   ]
  },
  {
   "cell_type": "code",
   "execution_count": null,
   "metadata": {},
   "outputs": [],
   "source": [
    "# from solcx import compile_source\n",
    "# compiled = compile_source(contract_data,\n",
    "#     output_values=['abi', 'bin']\n",
    "# )\n",
    "# contract_id, contract_interface = compiled.popitem()\n",
    "\n",
    "from solcx import compile_standard, install_solc\n",
    "\n",
    "install_solc('0.8.19')\n",
    "\n",
    "compiled_sol = compile_standard(\n",
    "    {\n",
    "        \"language\": \"Solidity\",\n",
    "        \"sources\": {\"Event.sol\": {\"content\": contract_data}},\n",
    "        \"settings\": {\n",
    "            \"outputSelection\": {\n",
    "                \"*\": {\n",
    "                    \"*\": [\"abi\", \"metadata\", \"evm.bytecode\", \"evm.bytecode.sourceMap\"] # output needed to interact with and deploy contract \n",
    "                }\n",
    "            }\n",
    "        }\n",
    "    },\n",
    "    solc_version=\"0.8.19\"\n",
    ")\n",
    "# print(compiled_sol)\n",
    "# with open(\"../contract/build/contracts/compiled_code.json\", \"w\") as file:\n",
    "#     json.dump(compiled_sol, file)\n",
    "\n",
    "bytecode = compiled_sol[\"contracts\"][\"Event.sol\"][\"Event\"][\"evm\"][\"bytecode\"][\"object\"]\n",
    "abi = compiled_sol[\"contracts\"][\"Event.sol\"][\"Event\"][\"abi\"]\n",
    "print(compiled_sol[\"contracts\"][\"Event.sol\"][\"Event\"][\"abi\"])"
   ]
  },
  {
   "cell_type": "code",
   "execution_count": null,
   "metadata": {},
   "outputs": [],
   "source": [
    "# print(contract_id)\n",
    "\n",
    "# print(contract_interface)\n",
    "# bytecode = contract_interface['bin']\n",
    "# abi = contract_interface['abi']"
   ]
  },
  {
   "cell_type": "code",
   "execution_count": null,
   "metadata": {},
   "outputs": [],
   "source": [
    "import time\n",
    "now = round(time.time())"
   ]
  },
  {
   "cell_type": "code",
   "execution_count": null,
   "metadata": {},
   "outputs": [],
   "source": [
    "# web3.eth.default_account = wallet_address\n",
    "\n",
    "deployContract = web3.eth.contract(abi=abi, bytecode= bytecode)\n",
    "\n",
    "transaction = {\n",
    "   'chainId': chainId,\n",
    "   'from': wallet_address,\n",
    "   'nonce': web3.eth.get_transaction_count(wallet_address),\n",
    "   'gasPrice': web3.eth.gas_price\n",
    "}\n",
    "\n",
    "tx_builded = deployContract.constructor('custom2', ['x', 'y', 'z'], 1814356540).build_transaction(transaction)\n",
    "# transaction"
   ]
  },
  {
   "cell_type": "code",
   "execution_count": null,
   "metadata": {},
   "outputs": [],
   "source": [
    "signed_build = web3.eth.account.sign_transaction(tx_builded, private_key=wallet_secret_key)"
   ]
  },
  {
   "cell_type": "code",
   "execution_count": null,
   "metadata": {},
   "outputs": [],
   "source": [
    "tx_hash = web3.eth.send_raw_transaction(signed_build.rawTransaction)"
   ]
  },
  {
   "cell_type": "code",
   "execution_count": null,
   "metadata": {},
   "outputs": [],
   "source": [
    "transaction_receipt = web3.eth.wait_for_transaction_receipt(tx_hash)\n",
    "print(f\"Done! Contract deployed to {transaction_receipt.contractAddress}\")"
   ]
  }
 ],
 "metadata": {
  "kernelspec": {
   "display_name": "Python 3",
   "language": "python",
   "name": "python3"
  },
  "language_info": {
   "codemirror_mode": {
    "name": "ipython",
    "version": 3
   },
   "file_extension": ".py",
   "mimetype": "text/x-python",
   "name": "python",
   "nbconvert_exporter": "python",
   "pygments_lexer": "ipython3",
   "version": "3.8.9"
  }
 },
 "nbformat": 4,
 "nbformat_minor": 2
}
