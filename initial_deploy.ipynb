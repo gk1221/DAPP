{
 "cells": [
  {
   "cell_type": "markdown",
   "metadata": {},
   "source": [
    "### 建立模擬環境\n",
    "1. 重建 Ganache\n",
    "2. 建立事件1: 2024年總統大選結果會由誰勝出? 柯文哲 賴清德 侯友宜 謝新達 截止時間1/13\n",
    "3. 建立事件2: 專班20週年聚餐，台上會有幾位老師? 小於等於8位 9位 10位 11位 大於等於12位 截止時間4/27\n",
    "4. 建立事件3: 2024年美國總統大選結果會由誰勝出? 拜登 川普 截止時間11/5\n",
    "5. 每個事件都下注一下\n",
    "6. 不要註解 page_2.py 的 \"卡控 已經截止的事件 不能下注\""
   ]
  },
  {
   "cell_type": "code",
   "execution_count": 1,
   "metadata": {},
   "outputs": [],
   "source": [
    "from scripts.contract import DeployContract\n",
    "from datetime import datetime"
   ]
  },
  {
   "cell_type": "code",
   "execution_count": 2,
   "metadata": {},
   "outputs": [],
   "source": [
    "key1 = \"0x09e91a508dc6883d45cad5bed8f3f2780e24e7d6da8923bbb324504570dd3552\"\n",
    "key2 = \"0x8a293c3ccab433a59d735601e001223b7028c6ca20df8f98ba42576b4b86fb55\"\n",
    "key3 = \"0x464c56b76364de6c21fb892bebcffc15ad7bc58fdafb7e8ac55dfb8b1b6f015c\""
   ]
  },
  {
   "cell_type": "code",
   "execution_count": 3,
   "metadata": {},
   "outputs": [],
   "source": [
    "DeployContract(key1, \n",
    "               \"2024年總統大選結果會由誰勝出?\",\n",
    "               [\"柯文哲\", \"賴清德\", \"侯友宜\", \"謝新達\"], \n",
    "               int(datetime(2024, 1, 13).timestamp())).deploy()\n",
    "\n",
    "DeployContract(key2, \n",
    "               \"專班20週年聚餐，台上會有幾位老師?\",\n",
    "               [\"≦8位\", \"9位\", \"10位\", \"11位\", \"≧12位\"], \n",
    "               int(datetime(2024, 4, 27).timestamp())).deploy()\n",
    "\n",
    "DeployContract(key3, \n",
    "               \"2024年美國總統大選結果會由誰勝出?\",\n",
    "               [\"Joe Biden\", \"Donald Trump\"], \n",
    "               int(datetime(2024, 11, 5).timestamp())).deploy()"
   ]
  }
 ],
 "metadata": {
  "kernelspec": {
   "display_name": "blockchain",
   "language": "python",
   "name": "python3"
  },
  "language_info": {
   "codemirror_mode": {
    "name": "ipython",
    "version": 3
   },
   "file_extension": ".py",
   "mimetype": "text/x-python",
   "name": "python",
   "nbconvert_exporter": "python",
   "pygments_lexer": "ipython3",
   "version": "3.12.2"
  }
 },
 "nbformat": 4,
 "nbformat_minor": 2
}
